{
  "cells": [
    {
      "cell_type": "markdown",
      "metadata": {
        "id": "view-in-github",
        "colab_type": "text"
      },
      "source": [
        "<a href=\"https://colab.research.google.com/github/supunlakshan100/DeepLearning-lemonade_sales_prediction/blob/main/Lemonade%20Sales%20Prediction.ipynb\" target=\"_parent\"><img src=\"https://colab.research.google.com/assets/colab-badge.svg\" alt=\"Open In Colab\"/></a>"
      ]
    },
    {
      "cell_type": "markdown",
      "source": [
        "###Lemonade Sales Prediction *Using Deep Learning*"
      ],
      "metadata": {
        "id": "smoI0IwVo8Nr"
      }
    },
    {
      "cell_type": "code",
      "execution_count": null,
      "metadata": {
        "colab": {
          "base_uri": "https://localhost:8080/",
          "height": 35
        },
        "id": "I0XsP1NC65S2",
        "outputId": "d0dc734c-aeb8-4b8a-c4dd-d386cd641926"
      },
      "outputs": [
        {
          "output_type": "execute_result",
          "data": {
            "text/plain": [
              "'2.0.1+cu118'"
            ],
            "application/vnd.google.colaboratory.intrinsic+json": {
              "type": "string"
            }
          },
          "metadata": {},
          "execution_count": 1
        }
      ],
      "source": [
        "import torch\n",
        "from torch import nn\n",
        "import pandas as pd\n",
        "import numpy as np\n",
        "import matplotlib.pyplot as plt\n",
        "torch.__version__"
      ]
    },
    {
      "cell_type": "code",
      "execution_count": null,
      "metadata": {
        "id": "rgm7eu_rXbKy",
        "colab": {
          "base_uri": "https://localhost:8080/",
          "height": 363
        },
        "outputId": "01d11c76-eac2-4e76-ab92-dcabde0f3f2a"
      },
      "outputs": [
        {
          "output_type": "execute_result",
          "data": {
            "text/plain": [
              "   Weekend  Sunny  Warm  BigSign  Price  NumberSold\n",
              "0        1      0     0        1      9          71\n",
              "1        1      1     1        0     10         137\n",
              "2        0      1     0        0     10           0\n",
              "3        1      0     0        1      6         107\n",
              "4        1      0     0        1      8          80\n",
              "5        1      1     0        0      6         110\n",
              "6        1      1     1        0      8         167\n",
              "7        0      0     1        1      8           0\n",
              "8        1      0     1        0      8         124\n",
              "9        1      1     0        0      7          95"
            ],
            "text/html": [
              "\n",
              "  <div id=\"df-862c8608-49c3-4df4-9a9f-70ad8c73761d\">\n",
              "    <div class=\"colab-df-container\">\n",
              "      <div>\n",
              "<style scoped>\n",
              "    .dataframe tbody tr th:only-of-type {\n",
              "        vertical-align: middle;\n",
              "    }\n",
              "\n",
              "    .dataframe tbody tr th {\n",
              "        vertical-align: top;\n",
              "    }\n",
              "\n",
              "    .dataframe thead th {\n",
              "        text-align: right;\n",
              "    }\n",
              "</style>\n",
              "<table border=\"1\" class=\"dataframe\">\n",
              "  <thead>\n",
              "    <tr style=\"text-align: right;\">\n",
              "      <th></th>\n",
              "      <th>Weekend</th>\n",
              "      <th>Sunny</th>\n",
              "      <th>Warm</th>\n",
              "      <th>BigSign</th>\n",
              "      <th>Price</th>\n",
              "      <th>NumberSold</th>\n",
              "    </tr>\n",
              "  </thead>\n",
              "  <tbody>\n",
              "    <tr>\n",
              "      <th>0</th>\n",
              "      <td>1</td>\n",
              "      <td>0</td>\n",
              "      <td>0</td>\n",
              "      <td>1</td>\n",
              "      <td>9</td>\n",
              "      <td>71</td>\n",
              "    </tr>\n",
              "    <tr>\n",
              "      <th>1</th>\n",
              "      <td>1</td>\n",
              "      <td>1</td>\n",
              "      <td>1</td>\n",
              "      <td>0</td>\n",
              "      <td>10</td>\n",
              "      <td>137</td>\n",
              "    </tr>\n",
              "    <tr>\n",
              "      <th>2</th>\n",
              "      <td>0</td>\n",
              "      <td>1</td>\n",
              "      <td>0</td>\n",
              "      <td>0</td>\n",
              "      <td>10</td>\n",
              "      <td>0</td>\n",
              "    </tr>\n",
              "    <tr>\n",
              "      <th>3</th>\n",
              "      <td>1</td>\n",
              "      <td>0</td>\n",
              "      <td>0</td>\n",
              "      <td>1</td>\n",
              "      <td>6</td>\n",
              "      <td>107</td>\n",
              "    </tr>\n",
              "    <tr>\n",
              "      <th>4</th>\n",
              "      <td>1</td>\n",
              "      <td>0</td>\n",
              "      <td>0</td>\n",
              "      <td>1</td>\n",
              "      <td>8</td>\n",
              "      <td>80</td>\n",
              "    </tr>\n",
              "    <tr>\n",
              "      <th>5</th>\n",
              "      <td>1</td>\n",
              "      <td>1</td>\n",
              "      <td>0</td>\n",
              "      <td>0</td>\n",
              "      <td>6</td>\n",
              "      <td>110</td>\n",
              "    </tr>\n",
              "    <tr>\n",
              "      <th>6</th>\n",
              "      <td>1</td>\n",
              "      <td>1</td>\n",
              "      <td>1</td>\n",
              "      <td>0</td>\n",
              "      <td>8</td>\n",
              "      <td>167</td>\n",
              "    </tr>\n",
              "    <tr>\n",
              "      <th>7</th>\n",
              "      <td>0</td>\n",
              "      <td>0</td>\n",
              "      <td>1</td>\n",
              "      <td>1</td>\n",
              "      <td>8</td>\n",
              "      <td>0</td>\n",
              "    </tr>\n",
              "    <tr>\n",
              "      <th>8</th>\n",
              "      <td>1</td>\n",
              "      <td>0</td>\n",
              "      <td>1</td>\n",
              "      <td>0</td>\n",
              "      <td>8</td>\n",
              "      <td>124</td>\n",
              "    </tr>\n",
              "    <tr>\n",
              "      <th>9</th>\n",
              "      <td>1</td>\n",
              "      <td>1</td>\n",
              "      <td>0</td>\n",
              "      <td>0</td>\n",
              "      <td>7</td>\n",
              "      <td>95</td>\n",
              "    </tr>\n",
              "  </tbody>\n",
              "</table>\n",
              "</div>\n",
              "      <button class=\"colab-df-convert\" onclick=\"convertToInteractive('df-862c8608-49c3-4df4-9a9f-70ad8c73761d')\"\n",
              "              title=\"Convert this dataframe to an interactive table.\"\n",
              "              style=\"display:none;\">\n",
              "        \n",
              "  <svg xmlns=\"http://www.w3.org/2000/svg\" height=\"24px\"viewBox=\"0 0 24 24\"\n",
              "       width=\"24px\">\n",
              "    <path d=\"M0 0h24v24H0V0z\" fill=\"none\"/>\n",
              "    <path d=\"M18.56 5.44l.94 2.06.94-2.06 2.06-.94-2.06-.94-.94-2.06-.94 2.06-2.06.94zm-11 1L8.5 8.5l.94-2.06 2.06-.94-2.06-.94L8.5 2.5l-.94 2.06-2.06.94zm10 10l.94 2.06.94-2.06 2.06-.94-2.06-.94-.94-2.06-.94 2.06-2.06.94z\"/><path d=\"M17.41 7.96l-1.37-1.37c-.4-.4-.92-.59-1.43-.59-.52 0-1.04.2-1.43.59L10.3 9.45l-7.72 7.72c-.78.78-.78 2.05 0 2.83L4 21.41c.39.39.9.59 1.41.59.51 0 1.02-.2 1.41-.59l7.78-7.78 2.81-2.81c.8-.78.8-2.07 0-2.86zM5.41 20L4 18.59l7.72-7.72 1.47 1.35L5.41 20z\"/>\n",
              "  </svg>\n",
              "      </button>\n",
              "      \n",
              "  <style>\n",
              "    .colab-df-container {\n",
              "      display:flex;\n",
              "      flex-wrap:wrap;\n",
              "      gap: 12px;\n",
              "    }\n",
              "\n",
              "    .colab-df-convert {\n",
              "      background-color: #E8F0FE;\n",
              "      border: none;\n",
              "      border-radius: 50%;\n",
              "      cursor: pointer;\n",
              "      display: none;\n",
              "      fill: #1967D2;\n",
              "      height: 32px;\n",
              "      padding: 0 0 0 0;\n",
              "      width: 32px;\n",
              "    }\n",
              "\n",
              "    .colab-df-convert:hover {\n",
              "      background-color: #E2EBFA;\n",
              "      box-shadow: 0px 1px 2px rgba(60, 64, 67, 0.3), 0px 1px 3px 1px rgba(60, 64, 67, 0.15);\n",
              "      fill: #174EA6;\n",
              "    }\n",
              "\n",
              "    [theme=dark] .colab-df-convert {\n",
              "      background-color: #3B4455;\n",
              "      fill: #D2E3FC;\n",
              "    }\n",
              "\n",
              "    [theme=dark] .colab-df-convert:hover {\n",
              "      background-color: #434B5C;\n",
              "      box-shadow: 0px 1px 3px 1px rgba(0, 0, 0, 0.15);\n",
              "      filter: drop-shadow(0px 1px 2px rgba(0, 0, 0, 0.3));\n",
              "      fill: #FFFFFF;\n",
              "    }\n",
              "  </style>\n",
              "\n",
              "      <script>\n",
              "        const buttonEl =\n",
              "          document.querySelector('#df-862c8608-49c3-4df4-9a9f-70ad8c73761d button.colab-df-convert');\n",
              "        buttonEl.style.display =\n",
              "          google.colab.kernel.accessAllowed ? 'block' : 'none';\n",
              "\n",
              "        async function convertToInteractive(key) {\n",
              "          const element = document.querySelector('#df-862c8608-49c3-4df4-9a9f-70ad8c73761d');\n",
              "          const dataTable =\n",
              "            await google.colab.kernel.invokeFunction('convertToInteractive',\n",
              "                                                     [key], {});\n",
              "          if (!dataTable) return;\n",
              "\n",
              "          const docLinkHtml = 'Like what you see? Visit the ' +\n",
              "            '<a target=\"_blank\" href=https://colab.research.google.com/notebooks/data_table.ipynb>data table notebook</a>'\n",
              "            + ' to learn more about interactive tables.';\n",
              "          element.innerHTML = '';\n",
              "          dataTable['output_type'] = 'display_data';\n",
              "          await google.colab.output.renderOutput(dataTable, element);\n",
              "          const docLink = document.createElement('div');\n",
              "          docLink.innerHTML = docLinkHtml;\n",
              "          element.appendChild(docLink);\n",
              "        }\n",
              "      </script>\n",
              "    </div>\n",
              "  </div>\n",
              "  "
            ]
          },
          "metadata": {},
          "execution_count": 2
        }
      ],
      "source": [
        "df=pd.read_csv('https://raw.githubusercontent.com/LeakyAI/FirstNeuralNet/main/lemons.csv')\n",
        "df.head(10)"
      ]
    },
    {
      "cell_type": "code",
      "source": [
        "type(df)"
      ],
      "metadata": {
        "colab": {
          "base_uri": "https://localhost:8080/"
        },
        "id": "F3NAVZvwftXJ",
        "outputId": "02b1d9e8-3829-477b-ea7a-26caae0da523"
      },
      "execution_count": null,
      "outputs": [
        {
          "output_type": "execute_result",
          "data": {
            "text/plain": [
              "pandas.core.frame.DataFrame"
            ]
          },
          "metadata": {},
          "execution_count": 3
        }
      ]
    },
    {
      "cell_type": "code",
      "source": [
        "device= 'cuda' if torch.cuda.is_available() else 'cpu'\n",
        "print ('A {} device was detected'.format(device))\n",
        "\n",
        "if device=='cuda':\n",
        "    print (torch.cuda.get_device_name(device=device))"
      ],
      "metadata": {
        "colab": {
          "base_uri": "https://localhost:8080/"
        },
        "id": "urlBNCaOfQ3A",
        "outputId": "311e6290-9f31-4308-c993-2286589982c8"
      },
      "execution_count": null,
      "outputs": [
        {
          "output_type": "stream",
          "name": "stdout",
          "text": [
            "A cuda device was detected\n",
            "Tesla T4\n"
          ]
        }
      ]
    },
    {
      "cell_type": "code",
      "source": [
        "df.shape"
      ],
      "metadata": {
        "colab": {
          "base_uri": "https://localhost:8080/"
        },
        "id": "KKkUpPFWZTB3",
        "outputId": "a1cb3b6f-7dfb-4f3a-950f-2860f616079d"
      },
      "execution_count": null,
      "outputs": [
        {
          "output_type": "execute_result",
          "data": {
            "text/plain": [
              "(365, 6)"
            ]
          },
          "metadata": {},
          "execution_count": 5
        }
      ]
    },
    {
      "cell_type": "markdown",
      "source": [
        "###Standardization"
      ],
      "metadata": {
        "id": "PoWjuU1gajxX"
      }
    },
    {
      "cell_type": "code",
      "source": [
        "#Standardize Price\n",
        "\n",
        "PriceMean= df['Price'].mean()\n",
        "priceStd= df['Price'].std()\n",
        "\n",
        "df['Price']= (df['Price']-PriceMean)/priceStd"
      ],
      "metadata": {
        "id": "3PC7e1VPvxAc"
      },
      "execution_count": null,
      "outputs": []
    },
    {
      "cell_type": "code",
      "source": [
        "#Standardize numSold\n",
        "\n",
        "numsoldMean = df['NumberSold'].mean()\n",
        "numsoldStd = df['NumberSold'].std()\n",
        "\n",
        "df['NumberSold'] = (df['NumberSold']-numsoldMean)/numsoldStd"
      ],
      "metadata": {
        "id": "CssLaZlbw4xv"
      },
      "execution_count": null,
      "outputs": []
    },
    {
      "cell_type": "code",
      "source": [
        "df.head(10)"
      ],
      "metadata": {
        "colab": {
          "base_uri": "https://localhost:8080/",
          "height": 363
        },
        "id": "6_R7sT9DyARo",
        "outputId": "f1f846e6-6790-4645-d4ad-37aae3cc415b"
      },
      "execution_count": null,
      "outputs": [
        {
          "output_type": "execute_result",
          "data": {
            "text/plain": [
              "   Weekend  Sunny  Warm  BigSign     Price  NumberSold\n",
              "0        1      0     0        1  0.846650   -0.023669\n",
              "1        1      1     1        0  1.452587    0.743734\n",
              "2        0      1     0        0  1.452587   -0.849208\n",
              "3        1      0     0        1 -0.971158    0.394915\n",
              "4        1      0     0        1  0.240714    0.080977\n",
              "5        1      1     0        0 -0.971158    0.429797\n",
              "6        1      1     1        0  0.240714    1.092554\n",
              "7        0      0     1        1  0.240714   -0.849208\n",
              "8        1      0     1        0  0.240714    0.592579\n",
              "9        1      1     0        0 -0.365222    0.255387"
            ],
            "text/html": [
              "\n",
              "  <div id=\"df-67ddcb6f-e337-4377-aeda-05179eeca8d6\">\n",
              "    <div class=\"colab-df-container\">\n",
              "      <div>\n",
              "<style scoped>\n",
              "    .dataframe tbody tr th:only-of-type {\n",
              "        vertical-align: middle;\n",
              "    }\n",
              "\n",
              "    .dataframe tbody tr th {\n",
              "        vertical-align: top;\n",
              "    }\n",
              "\n",
              "    .dataframe thead th {\n",
              "        text-align: right;\n",
              "    }\n",
              "</style>\n",
              "<table border=\"1\" class=\"dataframe\">\n",
              "  <thead>\n",
              "    <tr style=\"text-align: right;\">\n",
              "      <th></th>\n",
              "      <th>Weekend</th>\n",
              "      <th>Sunny</th>\n",
              "      <th>Warm</th>\n",
              "      <th>BigSign</th>\n",
              "      <th>Price</th>\n",
              "      <th>NumberSold</th>\n",
              "    </tr>\n",
              "  </thead>\n",
              "  <tbody>\n",
              "    <tr>\n",
              "      <th>0</th>\n",
              "      <td>1</td>\n",
              "      <td>0</td>\n",
              "      <td>0</td>\n",
              "      <td>1</td>\n",
              "      <td>0.846650</td>\n",
              "      <td>-0.023669</td>\n",
              "    </tr>\n",
              "    <tr>\n",
              "      <th>1</th>\n",
              "      <td>1</td>\n",
              "      <td>1</td>\n",
              "      <td>1</td>\n",
              "      <td>0</td>\n",
              "      <td>1.452587</td>\n",
              "      <td>0.743734</td>\n",
              "    </tr>\n",
              "    <tr>\n",
              "      <th>2</th>\n",
              "      <td>0</td>\n",
              "      <td>1</td>\n",
              "      <td>0</td>\n",
              "      <td>0</td>\n",
              "      <td>1.452587</td>\n",
              "      <td>-0.849208</td>\n",
              "    </tr>\n",
              "    <tr>\n",
              "      <th>3</th>\n",
              "      <td>1</td>\n",
              "      <td>0</td>\n",
              "      <td>0</td>\n",
              "      <td>1</td>\n",
              "      <td>-0.971158</td>\n",
              "      <td>0.394915</td>\n",
              "    </tr>\n",
              "    <tr>\n",
              "      <th>4</th>\n",
              "      <td>1</td>\n",
              "      <td>0</td>\n",
              "      <td>0</td>\n",
              "      <td>1</td>\n",
              "      <td>0.240714</td>\n",
              "      <td>0.080977</td>\n",
              "    </tr>\n",
              "    <tr>\n",
              "      <th>5</th>\n",
              "      <td>1</td>\n",
              "      <td>1</td>\n",
              "      <td>0</td>\n",
              "      <td>0</td>\n",
              "      <td>-0.971158</td>\n",
              "      <td>0.429797</td>\n",
              "    </tr>\n",
              "    <tr>\n",
              "      <th>6</th>\n",
              "      <td>1</td>\n",
              "      <td>1</td>\n",
              "      <td>1</td>\n",
              "      <td>0</td>\n",
              "      <td>0.240714</td>\n",
              "      <td>1.092554</td>\n",
              "    </tr>\n",
              "    <tr>\n",
              "      <th>7</th>\n",
              "      <td>0</td>\n",
              "      <td>0</td>\n",
              "      <td>1</td>\n",
              "      <td>1</td>\n",
              "      <td>0.240714</td>\n",
              "      <td>-0.849208</td>\n",
              "    </tr>\n",
              "    <tr>\n",
              "      <th>8</th>\n",
              "      <td>1</td>\n",
              "      <td>0</td>\n",
              "      <td>1</td>\n",
              "      <td>0</td>\n",
              "      <td>0.240714</td>\n",
              "      <td>0.592579</td>\n",
              "    </tr>\n",
              "    <tr>\n",
              "      <th>9</th>\n",
              "      <td>1</td>\n",
              "      <td>1</td>\n",
              "      <td>0</td>\n",
              "      <td>0</td>\n",
              "      <td>-0.365222</td>\n",
              "      <td>0.255387</td>\n",
              "    </tr>\n",
              "  </tbody>\n",
              "</table>\n",
              "</div>\n",
              "      <button class=\"colab-df-convert\" onclick=\"convertToInteractive('df-67ddcb6f-e337-4377-aeda-05179eeca8d6')\"\n",
              "              title=\"Convert this dataframe to an interactive table.\"\n",
              "              style=\"display:none;\">\n",
              "        \n",
              "  <svg xmlns=\"http://www.w3.org/2000/svg\" height=\"24px\"viewBox=\"0 0 24 24\"\n",
              "       width=\"24px\">\n",
              "    <path d=\"M0 0h24v24H0V0z\" fill=\"none\"/>\n",
              "    <path d=\"M18.56 5.44l.94 2.06.94-2.06 2.06-.94-2.06-.94-.94-2.06-.94 2.06-2.06.94zm-11 1L8.5 8.5l.94-2.06 2.06-.94-2.06-.94L8.5 2.5l-.94 2.06-2.06.94zm10 10l.94 2.06.94-2.06 2.06-.94-2.06-.94-.94-2.06-.94 2.06-2.06.94z\"/><path d=\"M17.41 7.96l-1.37-1.37c-.4-.4-.92-.59-1.43-.59-.52 0-1.04.2-1.43.59L10.3 9.45l-7.72 7.72c-.78.78-.78 2.05 0 2.83L4 21.41c.39.39.9.59 1.41.59.51 0 1.02-.2 1.41-.59l7.78-7.78 2.81-2.81c.8-.78.8-2.07 0-2.86zM5.41 20L4 18.59l7.72-7.72 1.47 1.35L5.41 20z\"/>\n",
              "  </svg>\n",
              "      </button>\n",
              "      \n",
              "  <style>\n",
              "    .colab-df-container {\n",
              "      display:flex;\n",
              "      flex-wrap:wrap;\n",
              "      gap: 12px;\n",
              "    }\n",
              "\n",
              "    .colab-df-convert {\n",
              "      background-color: #E8F0FE;\n",
              "      border: none;\n",
              "      border-radius: 50%;\n",
              "      cursor: pointer;\n",
              "      display: none;\n",
              "      fill: #1967D2;\n",
              "      height: 32px;\n",
              "      padding: 0 0 0 0;\n",
              "      width: 32px;\n",
              "    }\n",
              "\n",
              "    .colab-df-convert:hover {\n",
              "      background-color: #E2EBFA;\n",
              "      box-shadow: 0px 1px 2px rgba(60, 64, 67, 0.3), 0px 1px 3px 1px rgba(60, 64, 67, 0.15);\n",
              "      fill: #174EA6;\n",
              "    }\n",
              "\n",
              "    [theme=dark] .colab-df-convert {\n",
              "      background-color: #3B4455;\n",
              "      fill: #D2E3FC;\n",
              "    }\n",
              "\n",
              "    [theme=dark] .colab-df-convert:hover {\n",
              "      background-color: #434B5C;\n",
              "      box-shadow: 0px 1px 3px 1px rgba(0, 0, 0, 0.15);\n",
              "      filter: drop-shadow(0px 1px 2px rgba(0, 0, 0, 0.3));\n",
              "      fill: #FFFFFF;\n",
              "    }\n",
              "  </style>\n",
              "\n",
              "      <script>\n",
              "        const buttonEl =\n",
              "          document.querySelector('#df-67ddcb6f-e337-4377-aeda-05179eeca8d6 button.colab-df-convert');\n",
              "        buttonEl.style.display =\n",
              "          google.colab.kernel.accessAllowed ? 'block' : 'none';\n",
              "\n",
              "        async function convertToInteractive(key) {\n",
              "          const element = document.querySelector('#df-67ddcb6f-e337-4377-aeda-05179eeca8d6');\n",
              "          const dataTable =\n",
              "            await google.colab.kernel.invokeFunction('convertToInteractive',\n",
              "                                                     [key], {});\n",
              "          if (!dataTable) return;\n",
              "\n",
              "          const docLinkHtml = 'Like what you see? Visit the ' +\n",
              "            '<a target=\"_blank\" href=https://colab.research.google.com/notebooks/data_table.ipynb>data table notebook</a>'\n",
              "            + ' to learn more about interactive tables.';\n",
              "          element.innerHTML = '';\n",
              "          dataTable['output_type'] = 'display_data';\n",
              "          await google.colab.output.renderOutput(dataTable, element);\n",
              "          const docLink = document.createElement('div');\n",
              "          docLink.innerHTML = docLinkHtml;\n",
              "          element.appendChild(docLink);\n",
              "        }\n",
              "      </script>\n",
              "    </div>\n",
              "  </div>\n",
              "  "
            ]
          },
          "metadata": {},
          "execution_count": 8
        }
      ]
    },
    {
      "cell_type": "markdown",
      "source": [
        "### Create Our Input(x) and Output(y) to train our Neural Network"
      ],
      "metadata": {
        "id": "T-B6MZGmKpLI"
      }
    },
    {
      "cell_type": "code",
      "source": [
        "inputs= ['Weekend',\t'Sunny',\t'Warm',\t'BigSign',\t'Price']\n",
        "x= torch.tensor(df[inputs].values, dtype=torch.float, device=device)\n",
        "\n",
        "outputs=['NumberSold']\n",
        "y=torch.tensor(df[outputs].values,dtype=torch.float,device=device)"
      ],
      "metadata": {
        "id": "UrMTq-g8yHje"
      },
      "execution_count": null,
      "outputs": []
    },
    {
      "cell_type": "code",
      "source": [
        "type(x)"
      ],
      "metadata": {
        "colab": {
          "base_uri": "https://localhost:8080/"
        },
        "id": "NI_aQwBokhoM",
        "outputId": "e4e95a5a-b051-4d39-cd40-5407c481ee56"
      },
      "execution_count": null,
      "outputs": [
        {
          "output_type": "execute_result",
          "data": {
            "text/plain": [
              "torch.Tensor"
            ]
          },
          "metadata": {},
          "execution_count": 10
        }
      ]
    },
    {
      "cell_type": "code",
      "source": [
        "x.shape"
      ],
      "metadata": {
        "colab": {
          "base_uri": "https://localhost:8080/"
        },
        "id": "-m2GARKKlEmj",
        "outputId": "b99ed907-4dca-44ea-b658-0808589c5fce"
      },
      "execution_count": null,
      "outputs": [
        {
          "output_type": "execute_result",
          "data": {
            "text/plain": [
              "torch.Size([365, 5])"
            ]
          },
          "metadata": {},
          "execution_count": 11
        }
      ]
    },
    {
      "cell_type": "code",
      "source": [
        "x[0:5]"
      ],
      "metadata": {
        "colab": {
          "base_uri": "https://localhost:8080/"
        },
        "id": "HUIo9nojyvlG",
        "outputId": "e17d315b-6e49-4e47-8540-b6648b089ea7"
      },
      "execution_count": null,
      "outputs": [
        {
          "output_type": "execute_result",
          "data": {
            "text/plain": [
              "tensor([[ 1.0000,  0.0000,  0.0000,  1.0000,  0.8467],\n",
              "        [ 1.0000,  1.0000,  1.0000,  0.0000,  1.4526],\n",
              "        [ 0.0000,  1.0000,  0.0000,  0.0000,  1.4526],\n",
              "        [ 1.0000,  0.0000,  0.0000,  1.0000, -0.9712],\n",
              "        [ 1.0000,  0.0000,  0.0000,  1.0000,  0.2407]], device='cuda:0')"
            ]
          },
          "metadata": {},
          "execution_count": 12
        }
      ]
    },
    {
      "cell_type": "code",
      "source": [
        "y[0:5] #sclicing"
      ],
      "metadata": {
        "colab": {
          "base_uri": "https://localhost:8080/"
        },
        "id": "dTY0wJyHznyL",
        "outputId": "d96d9a1e-b4c0-4f04-b423-3d67d1b9f708"
      },
      "execution_count": null,
      "outputs": [
        {
          "output_type": "execute_result",
          "data": {
            "text/plain": [
              "tensor([[-0.0237],\n",
              "        [ 0.7437],\n",
              "        [-0.8492],\n",
              "        [ 0.3949],\n",
              "        [ 0.0810]], device='cuda:0')"
            ]
          },
          "metadata": {},
          "execution_count": 13
        }
      ]
    },
    {
      "cell_type": "markdown",
      "source": [
        "### Step - 03 Buid Neural Network"
      ],
      "metadata": {
        "id": "tj15No6tzvxp"
      }
    },
    {
      "cell_type": "code",
      "source": [
        "# Define your pytorch neural network\n",
        "# Number of Inputs :5\n",
        "# Number of Hidden Units: 100\n",
        "# Number of Hidden Layers: 1\n",
        "# Activation Function: Relu\n",
        "# Number of Outputs: 1\n",
        "\n",
        "model = nn.Sequential(\n",
        "        nn.Linear(5,100),\n",
        "        nn.ReLU(),\n",
        "        nn.Linear(100,1)\n",
        "\n",
        ")\n",
        "\n",
        "# Move it to either the CPU or GPU depending on what we have available\n",
        "\n",
        "model.to(device)\n"
      ],
      "metadata": {
        "id": "y9jxtUcw0gza",
        "colab": {
          "base_uri": "https://localhost:8080/"
        },
        "outputId": "e4c41c6c-dbb1-4f83-8f66-af1e4349f76b"
      },
      "execution_count": null,
      "outputs": [
        {
          "output_type": "execute_result",
          "data": {
            "text/plain": [
              "Sequential(\n",
              "  (0): Linear(in_features=5, out_features=100, bias=True)\n",
              "  (1): ReLU()\n",
              "  (2): Linear(in_features=100, out_features=1, bias=True)\n",
              ")"
            ]
          },
          "metadata": {},
          "execution_count": 14
        }
      ]
    },
    {
      "cell_type": "markdown",
      "source": [
        "### Step 04- Train Your Neural Network"
      ],
      "metadata": {
        "id": "ciOiX_oWM17W"
      }
    },
    {
      "cell_type": "code",
      "source": [
        "import torch.optim as optim\n",
        "\n",
        "# Define the loss function for our neural network,Measure our neural network by mean square error\n",
        "criterion = torch.nn.MSELoss()\n",
        "\n",
        "# Define the optimizer to train our network using stochastic gradient descent (SGD),Train our network with a simple SGD approach\n",
        "optimizer = optim.SGD(model.parameters(), lr=0.01, momentum=0.9)\n",
        "\n",
        "# Train our network using the entire dataset for 5 epochs,Train our network a using the entire dataset 5 times\n",
        "\n",
        "for epoch in range(5):\n",
        "    totalLoss = 0\n",
        "    for i in range(len(x)):\n",
        "\n",
        "        # Perform a forward pass through the neural network\n",
        "        y_pred = model(x[i])\n",
        "\n",
        "        # Calculate the loss by comparing the predicted output to the actual output\n",
        "        loss = criterion(y_pred, y[i])\n",
        "\n",
        "        # Keep track of the accumulated loss for this epoch\n",
        "        totalLoss += loss.item()\n",
        "\n",
        "        # Update the neural network by backpropagating the gradients and adjusting the weights\n",
        "        optimizer.zero_grad()\n",
        "        loss.backward()\n",
        "        optimizer.step()\n",
        "\n",
        "    # Print the total loss after each training iteration\n",
        "    print(\"Total Loss:\", totalLoss)\n",
        "\n",
        "    '''In the updated comments:\n",
        "The torch.optim module is explicitly imported to clarify the usage of the optimizer.\n",
        "\n",
        "The loss function is described as measuring how well the neural network performs, specifically using the mean\n",
        "squared error (MSE) loss.\n",
        "\n",
        "The optimizer is mentioned as being used to train the network using stochastic gradient descent (SGD) with a learning rate\n",
        "of 0.01 and momentum of 0.9.\n",
        "\n",
        "The inner loop, which iterates over the dataset, is clarified as performing a forward pass through the network.\n",
        "\n",
        "The calculation of the loss and the accumulation of the total loss for each epoch are described.\n",
        "\n",
        "The comments explain the process of updating the neural network by zeroing gradients, backpropagating the loss, and\n",
        "stepping the optimizer.\n",
        "\n",
        "The final comment clarifies that the total loss is printed after each training iteration.\n",
        "\n",
        "These comments provide a better understanding of the purpose and functionality of each step in the code.'''\n"
      ],
      "metadata": {
        "colab": {
          "base_uri": "https://localhost:8080/"
        },
        "id": "uYvemZ5TNYIR",
        "outputId": "94fe4321-97c6-48f5-98ed-7858c9107441"
      },
      "execution_count": null,
      "outputs": [
        {
          "output_type": "stream",
          "name": "stdout",
          "text": [
            "Total Loss: 1.246264634384616\n",
            "Total Loss: 1.1693652159950751\n",
            "Total Loss: 1.1142375571516228\n",
            "Total Loss: 1.050221513028177\n",
            "Total Loss: 1.0032113512584235\n"
          ]
        }
      ]
    },
    {
      "cell_type": "markdown",
      "source": [
        "## Step 5 - Analyze the Network's Performance"
      ],
      "metadata": {
        "id": "HinCT23qROdn"
      }
    },
    {
      "cell_type": "code",
      "execution_count": null,
      "metadata": {
        "id": "FpNmPe5zGre6"
      },
      "outputs": [],
      "source": [
        "# Plot predictions vs. true values\n",
        "@torch.no_grad()\n",
        "def graphPredictions(model, x, y , minValue, maxValue):\n",
        "\n",
        "    model.eval()                               # Set the model to inference mode\n",
        "\n",
        "    predictions=[]                             # Track predictions\n",
        "    actual=[]                                  # Track the actual labels\n",
        "\n",
        "    x.to(device)\n",
        "    y.to(device)\n",
        "    model.to(device)\n",
        "\n",
        "    for i in range(len(x)):\n",
        "\n",
        "        # Single forward pass\n",
        "        pred = model(x[i])\n",
        "\n",
        "        # Un-normalize our prediction\n",
        "        pred = pred*numsoldStd+numsoldMean\n",
        "        act = y[i]*numsoldStd+numsoldMean\n",
        "\n",
        "        # Save prediction and actual label\n",
        "        predictions.append(pred.tolist())\n",
        "        actual.append(act.item())\n",
        "\n",
        "    # Plot actuals vs predictions\n",
        "    plt.scatter(actual, predictions)\n",
        "    plt.xlabel('Actual Lemonades Sold')\n",
        "    plt.ylabel('Predicted Lemonades Sold')\n",
        "    plt.plot([minValue,maxValue], [minValue,maxValue])\n",
        "    plt.xlim(minValue, maxValue)\n",
        "    plt.ylim(minValue, maxValue)\n",
        "\n",
        "    # Make the display equal in both dimensions\n",
        "    plt.gca().set_aspect('equal', adjustable='box')\n",
        "    plt.show()"
      ]
    },
    {
      "cell_type": "code",
      "source": [
        "graphPredictions(model, x,y,0,300)"
      ],
      "metadata": {
        "colab": {
          "base_uri": "https://localhost:8080/",
          "height": 455
        },
        "id": "MY4Y1X1RTitD",
        "outputId": "b1449456-eef7-460c-eaf0-c427b4d615d2"
      },
      "execution_count": null,
      "outputs": [
        {
          "output_type": "display_data",
          "data": {
            "text/plain": [
              "<Figure size 640x480 with 1 Axes>"
            ],
            "image/png": "[encoded data removed]"
          },
          "metadata": {}
        }
      ]
    },
    {
      "cell_type": "markdown",
      "source": [
        "## Step 6 - Test with Your Own Predictions\n",
        "Below we makeup some input data and see what our predictions should be vs what the neural network predicted."
      ],
      "metadata": {
        "id": "fWofjOLjRwjv"
      }
    },
    {
      "cell_type": "code",
      "source": [
        "# Below we use the synthetic data generator forumla to\n",
        "# determine what the actual result should have been.\n",
        "def datasetGenerator(weekend, sunny, warm, bigsign, price):\n",
        "    numlemonssold = 0\n",
        "    if weekend:\n",
        "        numlemonssold = (sunny*5  + int(500 / price))\n",
        "        if bigsign:\n",
        "            numlemonssold = 1.3 * numlemonssold\n",
        "        if warm:\n",
        "            numlemonssold = 2 * numlemonssold\n",
        "        if sunny:\n",
        "            numlemonssold = 1.25 * numlemonssold\n",
        "    numlemonssold = int(numlemonssold)\n",
        "    return numlemonssold"
      ],
      "metadata": {
        "id": "IE7kTOhqR3Go"
      },
      "execution_count": null,
      "outputs": []
    },
    {
      "cell_type": "code",
      "source": [
        "# Data that affects the number of lemons sold in one day\n",
        "weekend = 1\n",
        "sunny = 1\n",
        "warm = 0\n",
        "bigsign = 1\n",
        "price = 5\n",
        "\n",
        "# Calculate what would have been the actual result using\n",
        "# the synthetic dataset's algorithm\n",
        "actual = datasetGenerator(weekend, sunny, warm, bigsign, price)\n",
        "\n",
        "# Use the CPU as we just need to do a single pass\n",
        "model.to('cpu')\n",
        "\n",
        "# Normalize our inputs using the same values for our training\n",
        "price = (price-PriceMean)/ priceStd\n",
        "\n",
        "# Create our input tensor\n",
        "x1 = torch.tensor([weekend, sunny, warm, bigsign, price],dtype=float)\n",
        "\n",
        "# Pass the input into the neural network\n",
        "y1 = model(x1.float())\n",
        "\n",
        "# Un-normalize our output y1\n",
        "y1 = y1*numsoldStd+numsoldMean\n",
        "\n",
        "# Compare what your network predicted to the actual\n",
        "print (\"Neural Network Predicts: \", y1.item())\n",
        "print (\"Actual Result: \", actual)"
      ],
      "metadata": {
        "colab": {
          "base_uri": "https://localhost:8080/"
        },
        "id": "H_G88ypqSLty",
        "outputId": "09d89da3-bb28-4f90-f05a-3554207e98e5"
      },
      "execution_count": null,
      "outputs": [
        {
          "output_type": "stream",
          "name": "stdout",
          "text": [
            "Neural Network Predicts:  138.36764526367188\n",
            "Actual Result:  130\n"
          ]
        }
      ]
    },
    {
      "cell_type": "code",
      "source": [
        "!git clone git@github.com:supunlakshan100/DeepLearning-lemonade_sales_prediction.git"
      ],
      "metadata": {
        "colab": {
          "base_uri": "https://localhost:8080/"
        },
        "id": "sI2AQlP5qR-X",
        "outputId": "a399c92b-7d97-4912-95a4-1a5b522a1f42"
      },
      "execution_count": null,
      "outputs": [
        {
          "output_type": "stream",
          "name": "stdout",
          "text": [
            "Cloning into 'DeepLearning-lemonade_sales_prediction'...\n",
            "Host key verification failed.\n",
            "fatal: Could not read from remote repository.\n",
            "\n",
            "Please make sure you have the correct access rights\n",
            "and the repository exists.\n"
          ]
        }
      ]
    },
    {
      "cell_type": "code",
      "source": [],
      "metadata": {
        "id": "P1k3n_4_rluy"
      },
      "execution_count": null,
      "outputs": []
    }
  ],
  "metadata": {
    "colab": {
      "provenance": [],
      "gpuType": "T4",
      "authorship_tag": "ABX9TyMa8Aw+cAgqoJJ2fVJWW3LA",
      "include_colab_link": true
    },
    "kernelspec": {
      "display_name": "Python 3",
      "name": "python3"
    },
    "language_info": {
      "name": "python"
    }
  },
  "nbformat": 4,
  "nbformat_minor": 0
}